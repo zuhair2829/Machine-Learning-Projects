{
 "cells": [
  {
   "cell_type": "code",
   "execution_count": 32,
   "id": "baf5e2d2",
   "metadata": {},
   "outputs": [],
   "source": [
    "import numpy as np \n",
    "import pandas as pd\n",
    "from matplotlib import pyplot as plt\n",
    "import seaborn as sns\n",
    "import warnings\n",
    "warnings.filterwarnings('ignore')"
   ]
  },
  {
   "cell_type": "code",
   "execution_count": 33,
   "id": "aae3d9ad",
   "metadata": {},
   "outputs": [],
   "source": [
    "df=pd.read_csv(\"C:\\\\Users\\\\ROG STRIX\\\\Desktop\\\\PDataSets\\\\hyundi.csv\")"
   ]
  },
  {
   "cell_type": "code",
   "execution_count": 34,
   "id": "1e85b4a4",
   "metadata": {},
   "outputs": [
    {
     "data": {
      "text/html": [
       "<div>\n",
       "<style scoped>\n",
       "    .dataframe tbody tr th:only-of-type {\n",
       "        vertical-align: middle;\n",
       "    }\n",
       "\n",
       "    .dataframe tbody tr th {\n",
       "        vertical-align: top;\n",
       "    }\n",
       "\n",
       "    .dataframe thead th {\n",
       "        text-align: right;\n",
       "    }\n",
       "</style>\n",
       "<table border=\"1\" class=\"dataframe\">\n",
       "  <thead>\n",
       "    <tr style=\"text-align: right;\">\n",
       "      <th></th>\n",
       "      <th>model</th>\n",
       "      <th>year</th>\n",
       "      <th>price</th>\n",
       "      <th>transmission</th>\n",
       "      <th>mileage</th>\n",
       "      <th>fuelType</th>\n",
       "      <th>tax</th>\n",
       "      <th>mpg</th>\n",
       "      <th>engineSize</th>\n",
       "    </tr>\n",
       "  </thead>\n",
       "  <tbody>\n",
       "    <tr>\n",
       "      <th>0</th>\n",
       "      <td>I20</td>\n",
       "      <td>2017</td>\n",
       "      <td>7999</td>\n",
       "      <td>Manual</td>\n",
       "      <td>17307</td>\n",
       "      <td>Petrol</td>\n",
       "      <td>145</td>\n",
       "      <td>58.9</td>\n",
       "      <td>1.2</td>\n",
       "    </tr>\n",
       "    <tr>\n",
       "      <th>1</th>\n",
       "      <td>Tucson</td>\n",
       "      <td>2016</td>\n",
       "      <td>14499</td>\n",
       "      <td>Automatic</td>\n",
       "      <td>25233</td>\n",
       "      <td>Diesel</td>\n",
       "      <td>235</td>\n",
       "      <td>43.5</td>\n",
       "      <td>2.0</td>\n",
       "    </tr>\n",
       "    <tr>\n",
       "      <th>2</th>\n",
       "      <td>Tucson</td>\n",
       "      <td>2016</td>\n",
       "      <td>11399</td>\n",
       "      <td>Manual</td>\n",
       "      <td>37877</td>\n",
       "      <td>Diesel</td>\n",
       "      <td>30</td>\n",
       "      <td>61.7</td>\n",
       "      <td>1.7</td>\n",
       "    </tr>\n",
       "    <tr>\n",
       "      <th>3</th>\n",
       "      <td>I10</td>\n",
       "      <td>2016</td>\n",
       "      <td>6499</td>\n",
       "      <td>Manual</td>\n",
       "      <td>23789</td>\n",
       "      <td>Petrol</td>\n",
       "      <td>20</td>\n",
       "      <td>60.1</td>\n",
       "      <td>1.0</td>\n",
       "    </tr>\n",
       "    <tr>\n",
       "      <th>4</th>\n",
       "      <td>IX35</td>\n",
       "      <td>2015</td>\n",
       "      <td>10199</td>\n",
       "      <td>Manual</td>\n",
       "      <td>33177</td>\n",
       "      <td>Diesel</td>\n",
       "      <td>160</td>\n",
       "      <td>51.4</td>\n",
       "      <td>2.0</td>\n",
       "    </tr>\n",
       "  </tbody>\n",
       "</table>\n",
       "</div>"
      ],
      "text/plain": [
       "     model  year  price transmission  mileage fuelType  tax   mpg  engineSize\n",
       "0      I20  2017   7999       Manual    17307   Petrol  145  58.9         1.2\n",
       "1   Tucson  2016  14499    Automatic    25233   Diesel  235  43.5         2.0\n",
       "2   Tucson  2016  11399       Manual    37877   Diesel   30  61.7         1.7\n",
       "3      I10  2016   6499       Manual    23789   Petrol   20  60.1         1.0\n",
       "4     IX35  2015  10199       Manual    33177   Diesel  160  51.4         2.0"
      ]
     },
     "execution_count": 34,
     "metadata": {},
     "output_type": "execute_result"
    }
   ],
   "source": [
    "df.head()"
   ]
  },
  {
   "cell_type": "code",
   "execution_count": 35,
   "id": "e69e7965",
   "metadata": {},
   "outputs": [
    {
     "data": {
      "text/html": [
       "<div>\n",
       "<style scoped>\n",
       "    .dataframe tbody tr th:only-of-type {\n",
       "        vertical-align: middle;\n",
       "    }\n",
       "\n",
       "    .dataframe tbody tr th {\n",
       "        vertical-align: top;\n",
       "    }\n",
       "\n",
       "    .dataframe thead th {\n",
       "        text-align: right;\n",
       "    }\n",
       "</style>\n",
       "<table border=\"1\" class=\"dataframe\">\n",
       "  <thead>\n",
       "    <tr style=\"text-align: right;\">\n",
       "      <th></th>\n",
       "      <th>model</th>\n",
       "      <th>year</th>\n",
       "      <th>price</th>\n",
       "      <th>transmission</th>\n",
       "      <th>mileage</th>\n",
       "      <th>fuelType</th>\n",
       "      <th>tax</th>\n",
       "      <th>mpg</th>\n",
       "      <th>engineSize</th>\n",
       "    </tr>\n",
       "  </thead>\n",
       "  <tbody>\n",
       "    <tr>\n",
       "      <th>4855</th>\n",
       "      <td>I30</td>\n",
       "      <td>2016</td>\n",
       "      <td>8680</td>\n",
       "      <td>Manual</td>\n",
       "      <td>25906</td>\n",
       "      <td>Diesel</td>\n",
       "      <td>0</td>\n",
       "      <td>78.4</td>\n",
       "      <td>1.6</td>\n",
       "    </tr>\n",
       "    <tr>\n",
       "      <th>4856</th>\n",
       "      <td>I40</td>\n",
       "      <td>2015</td>\n",
       "      <td>7830</td>\n",
       "      <td>Manual</td>\n",
       "      <td>59508</td>\n",
       "      <td>Diesel</td>\n",
       "      <td>30</td>\n",
       "      <td>65.7</td>\n",
       "      <td>1.7</td>\n",
       "    </tr>\n",
       "    <tr>\n",
       "      <th>4857</th>\n",
       "      <td>I10</td>\n",
       "      <td>2017</td>\n",
       "      <td>6830</td>\n",
       "      <td>Manual</td>\n",
       "      <td>13810</td>\n",
       "      <td>Petrol</td>\n",
       "      <td>20</td>\n",
       "      <td>60.1</td>\n",
       "      <td>1.0</td>\n",
       "    </tr>\n",
       "    <tr>\n",
       "      <th>4858</th>\n",
       "      <td>Tucson</td>\n",
       "      <td>2018</td>\n",
       "      <td>13994</td>\n",
       "      <td>Manual</td>\n",
       "      <td>23313</td>\n",
       "      <td>Petrol</td>\n",
       "      <td>145</td>\n",
       "      <td>44.8</td>\n",
       "      <td>1.6</td>\n",
       "    </tr>\n",
       "    <tr>\n",
       "      <th>4859</th>\n",
       "      <td>Tucson</td>\n",
       "      <td>2016</td>\n",
       "      <td>15999</td>\n",
       "      <td>Automatic</td>\n",
       "      <td>11472</td>\n",
       "      <td>Diesel</td>\n",
       "      <td>125</td>\n",
       "      <td>57.6</td>\n",
       "      <td>1.7</td>\n",
       "    </tr>\n",
       "  </tbody>\n",
       "</table>\n",
       "</div>"
      ],
      "text/plain": [
       "        model  year  price transmission  mileage fuelType  tax   mpg  \\\n",
       "4855      I30  2016   8680       Manual    25906   Diesel    0  78.4   \n",
       "4856      I40  2015   7830       Manual    59508   Diesel   30  65.7   \n",
       "4857      I10  2017   6830       Manual    13810   Petrol   20  60.1   \n",
       "4858   Tucson  2018  13994       Manual    23313   Petrol  145  44.8   \n",
       "4859   Tucson  2016  15999    Automatic    11472   Diesel  125  57.6   \n",
       "\n",
       "      engineSize  \n",
       "4855         1.6  \n",
       "4856         1.7  \n",
       "4857         1.0  \n",
       "4858         1.6  \n",
       "4859         1.7  "
      ]
     },
     "execution_count": 35,
     "metadata": {},
     "output_type": "execute_result"
    }
   ],
   "source": [
    "df.tail()"
   ]
  },
  {
   "cell_type": "code",
   "execution_count": 36,
   "id": "358f1d34",
   "metadata": {},
   "outputs": [
    {
     "data": {
      "text/html": [
       "<div>\n",
       "<style scoped>\n",
       "    .dataframe tbody tr th:only-of-type {\n",
       "        vertical-align: middle;\n",
       "    }\n",
       "\n",
       "    .dataframe tbody tr th {\n",
       "        vertical-align: top;\n",
       "    }\n",
       "\n",
       "    .dataframe thead th {\n",
       "        text-align: right;\n",
       "    }\n",
       "</style>\n",
       "<table border=\"1\" class=\"dataframe\">\n",
       "  <thead>\n",
       "    <tr style=\"text-align: right;\">\n",
       "      <th></th>\n",
       "      <th>year</th>\n",
       "      <th>price</th>\n",
       "      <th>mileage</th>\n",
       "      <th>tax</th>\n",
       "      <th>mpg</th>\n",
       "      <th>engineSize</th>\n",
       "    </tr>\n",
       "  </thead>\n",
       "  <tbody>\n",
       "    <tr>\n",
       "      <th>count</th>\n",
       "      <td>4860.000000</td>\n",
       "      <td>4860.00000</td>\n",
       "      <td>4860.000000</td>\n",
       "      <td>4860.000000</td>\n",
       "      <td>4860.000000</td>\n",
       "      <td>4860.000000</td>\n",
       "    </tr>\n",
       "    <tr>\n",
       "      <th>mean</th>\n",
       "      <td>2017.107613</td>\n",
       "      <td>12750.13107</td>\n",
       "      <td>21486.049588</td>\n",
       "      <td>121.147119</td>\n",
       "      <td>53.827798</td>\n",
       "      <td>1.457922</td>\n",
       "    </tr>\n",
       "    <tr>\n",
       "      <th>std</th>\n",
       "      <td>1.920456</td>\n",
       "      <td>5992.92231</td>\n",
       "      <td>17710.196964</td>\n",
       "      <td>58.003289</td>\n",
       "      <td>12.736042</td>\n",
       "      <td>0.400788</td>\n",
       "    </tr>\n",
       "    <tr>\n",
       "      <th>min</th>\n",
       "      <td>2000.000000</td>\n",
       "      <td>1200.00000</td>\n",
       "      <td>1.000000</td>\n",
       "      <td>0.000000</td>\n",
       "      <td>1.100000</td>\n",
       "      <td>0.000000</td>\n",
       "    </tr>\n",
       "    <tr>\n",
       "      <th>25%</th>\n",
       "      <td>2016.000000</td>\n",
       "      <td>8000.00000</td>\n",
       "      <td>8339.250000</td>\n",
       "      <td>125.000000</td>\n",
       "      <td>44.800000</td>\n",
       "      <td>1.200000</td>\n",
       "    </tr>\n",
       "    <tr>\n",
       "      <th>50%</th>\n",
       "      <td>2017.000000</td>\n",
       "      <td>11990.00000</td>\n",
       "      <td>17462.000000</td>\n",
       "      <td>145.000000</td>\n",
       "      <td>55.400000</td>\n",
       "      <td>1.600000</td>\n",
       "    </tr>\n",
       "    <tr>\n",
       "      <th>75%</th>\n",
       "      <td>2019.000000</td>\n",
       "      <td>15733.75000</td>\n",
       "      <td>30967.000000</td>\n",
       "      <td>145.000000</td>\n",
       "      <td>60.100000</td>\n",
       "      <td>1.700000</td>\n",
       "    </tr>\n",
       "    <tr>\n",
       "      <th>max</th>\n",
       "      <td>2020.000000</td>\n",
       "      <td>92000.00000</td>\n",
       "      <td>138000.000000</td>\n",
       "      <td>555.000000</td>\n",
       "      <td>256.800000</td>\n",
       "      <td>2.900000</td>\n",
       "    </tr>\n",
       "  </tbody>\n",
       "</table>\n",
       "</div>"
      ],
      "text/plain": [
       "              year        price        mileage          tax          mpg  \\\n",
       "count  4860.000000   4860.00000    4860.000000  4860.000000  4860.000000   \n",
       "mean   2017.107613  12750.13107   21486.049588   121.147119    53.827798   \n",
       "std       1.920456   5992.92231   17710.196964    58.003289    12.736042   \n",
       "min    2000.000000   1200.00000       1.000000     0.000000     1.100000   \n",
       "25%    2016.000000   8000.00000    8339.250000   125.000000    44.800000   \n",
       "50%    2017.000000  11990.00000   17462.000000   145.000000    55.400000   \n",
       "75%    2019.000000  15733.75000   30967.000000   145.000000    60.100000   \n",
       "max    2020.000000  92000.00000  138000.000000   555.000000   256.800000   \n",
       "\n",
       "        engineSize  \n",
       "count  4860.000000  \n",
       "mean      1.457922  \n",
       "std       0.400788  \n",
       "min       0.000000  \n",
       "25%       1.200000  \n",
       "50%       1.600000  \n",
       "75%       1.700000  \n",
       "max       2.900000  "
      ]
     },
     "execution_count": 36,
     "metadata": {},
     "output_type": "execute_result"
    }
   ],
   "source": [
    "df.describe()"
   ]
  },
  {
   "cell_type": "code",
   "execution_count": 37,
   "id": "b1c167e5",
   "metadata": {},
   "outputs": [
    {
     "data": {
      "text/plain": [
       "(4860, 9)"
      ]
     },
     "execution_count": 37,
     "metadata": {},
     "output_type": "execute_result"
    }
   ],
   "source": [
    "df.shape"
   ]
  },
  {
   "cell_type": "code",
   "execution_count": 38,
   "id": "8beca1a8",
   "metadata": {},
   "outputs": [
    {
     "data": {
      "text/plain": [
       "model            object\n",
       "year              int64\n",
       "price             int64\n",
       "transmission     object\n",
       "mileage           int64\n",
       "fuelType         object\n",
       "tax               int64\n",
       "mpg             float64\n",
       "engineSize      float64\n",
       "dtype: object"
      ]
     },
     "execution_count": 38,
     "metadata": {},
     "output_type": "execute_result"
    }
   ],
   "source": [
    "df.dtypes\n"
   ]
  },
  {
   "cell_type": "code",
   "execution_count": 39,
   "id": "47f361a2",
   "metadata": {},
   "outputs": [
    {
     "data": {
      "text/plain": [
       "model           0\n",
       "year            0\n",
       "price           0\n",
       "transmission    0\n",
       "mileage         0\n",
       "fuelType        0\n",
       "tax             0\n",
       "mpg             0\n",
       "engineSize      0\n",
       "dtype: int64"
      ]
     },
     "execution_count": 39,
     "metadata": {},
     "output_type": "execute_result"
    }
   ],
   "source": [
    "df.isnull().sum()"
   ]
  },
  {
   "cell_type": "code",
   "execution_count": 40,
   "id": "bb48d48a",
   "metadata": {},
   "outputs": [
    {
     "name": "stdout",
     "output_type": "stream",
     "text": [
      "model\n",
      "year\n",
      "price\n",
      "transmission\n",
      "mileage\n",
      "fuelType\n",
      "tax\n",
      "mpg\n",
      "engineSize\n"
     ]
    }
   ],
   "source": [
    "for col in df:\n",
    "    print(col)"
   ]
  },
  {
   "cell_type": "markdown",
   "id": "9ae5fdf5",
   "metadata": {},
   "source": [
    "# Visualizing the data"
   ]
  },
  {
   "cell_type": "code",
   "execution_count": 41,
   "id": "808a0d53",
   "metadata": {},
   "outputs": [
    {
     "data": {
      "text/plain": [
       "Text(0.5, 1.0, 'Correlation')"
      ]
     },
     "execution_count": 41,
     "metadata": {},
     "output_type": "execute_result"
    },
    {
     "data": {
      "image/png": "[encoded data removed]",
      "text/plain": [
       "<Figure size 1296x1152 with 2 Axes>"
      ]
     },
     "metadata": {
      "needs_background": "light"
     },
     "output_type": "display_data"
    }
   ],
   "source": [
    "corr=df.corr()\n",
    "fig=plt.figure(figsize=(18,16))\n",
    "r=sns.heatmap(corr,cmap='Reds')\n",
    "r.set_title(\"Correlation\")"
   ]
  },
  {
   "cell_type": "code",
   "execution_count": 42,
   "id": "8b941e37",
   "metadata": {},
   "outputs": [
    {
     "data": {
      "text/plain": [
       "price         1.000000\n",
       "year          0.575765\n",
       "engineSize    0.522384\n",
       "tax           0.321028\n",
       "mpg          -0.320355\n",
       "mileage      -0.443576\n",
       "Name: price, dtype: float64"
      ]
     },
     "execution_count": 42,
     "metadata": {},
     "output_type": "execute_result"
    }
   ],
   "source": [
    "corr.sort_values(by=[\"price\"],ascending=False).iloc[0].sort_values(ascending=False)"
   ]
  },
  {
   "cell_type": "code",
   "execution_count": 12,
   "id": "b0134428",
   "metadata": {},
   "outputs": [
    {
     "data": {
      "text/html": [
       "<div>\n",
       "<style scoped>\n",
       "    .dataframe tbody tr th:only-of-type {\n",
       "        vertical-align: middle;\n",
       "    }\n",
       "\n",
       "    .dataframe tbody tr th {\n",
       "        vertical-align: top;\n",
       "    }\n",
       "\n",
       "    .dataframe thead th {\n",
       "        text-align: right;\n",
       "    }\n",
       "</style>\n",
       "<table border=\"1\" class=\"dataframe\">\n",
       "  <thead>\n",
       "    <tr style=\"text-align: right;\">\n",
       "      <th></th>\n",
       "      <th>year</th>\n",
       "      <th>price</th>\n",
       "      <th>mileage</th>\n",
       "      <th>tax</th>\n",
       "      <th>mpg</th>\n",
       "      <th>engineSize</th>\n",
       "    </tr>\n",
       "  </thead>\n",
       "  <tbody>\n",
       "    <tr>\n",
       "      <th>price</th>\n",
       "      <td>0.575765</td>\n",
       "      <td>1.000000</td>\n",
       "      <td>-0.443576</td>\n",
       "      <td>0.321028</td>\n",
       "      <td>-0.320355</td>\n",
       "      <td>0.522384</td>\n",
       "    </tr>\n",
       "    <tr>\n",
       "      <th>year</th>\n",
       "      <td>1.000000</td>\n",
       "      <td>0.575765</td>\n",
       "      <td>-0.716325</td>\n",
       "      <td>0.271535</td>\n",
       "      <td>-0.180792</td>\n",
       "      <td>-0.034544</td>\n",
       "    </tr>\n",
       "    <tr>\n",
       "      <th>engineSize</th>\n",
       "      <td>-0.034544</td>\n",
       "      <td>0.522384</td>\n",
       "      <td>0.178697</td>\n",
       "      <td>0.224927</td>\n",
       "      <td>-0.212200</td>\n",
       "      <td>1.000000</td>\n",
       "    </tr>\n",
       "    <tr>\n",
       "      <th>tax</th>\n",
       "      <td>0.271535</td>\n",
       "      <td>0.321028</td>\n",
       "      <td>-0.205910</td>\n",
       "      <td>1.000000</td>\n",
       "      <td>-0.451991</td>\n",
       "      <td>0.224927</td>\n",
       "    </tr>\n",
       "    <tr>\n",
       "      <th>mpg</th>\n",
       "      <td>-0.180792</td>\n",
       "      <td>-0.320355</td>\n",
       "      <td>0.181491</td>\n",
       "      <td>-0.451991</td>\n",
       "      <td>1.000000</td>\n",
       "      <td>-0.212200</td>\n",
       "    </tr>\n",
       "    <tr>\n",
       "      <th>mileage</th>\n",
       "      <td>-0.716325</td>\n",
       "      <td>-0.443576</td>\n",
       "      <td>1.000000</td>\n",
       "      <td>-0.205910</td>\n",
       "      <td>0.181491</td>\n",
       "      <td>0.178697</td>\n",
       "    </tr>\n",
       "  </tbody>\n",
       "</table>\n",
       "</div>"
      ],
      "text/plain": [
       "                year     price   mileage       tax       mpg  engineSize\n",
       "price       0.575765  1.000000 -0.443576  0.321028 -0.320355    0.522384\n",
       "year        1.000000  0.575765 -0.716325  0.271535 -0.180792   -0.034544\n",
       "engineSize -0.034544  0.522384  0.178697  0.224927 -0.212200    1.000000\n",
       "tax         0.271535  0.321028 -0.205910  1.000000 -0.451991    0.224927\n",
       "mpg        -0.180792 -0.320355  0.181491 -0.451991  1.000000   -0.212200\n",
       "mileage    -0.716325 -0.443576  1.000000 -0.205910  0.181491    0.178697"
      ]
     },
     "execution_count": 12,
     "metadata": {},
     "output_type": "execute_result"
    }
   ],
   "source": [
    "corr.sort_values(by=[\"price\"],ascending=False)"
   ]
  },
  {
   "cell_type": "code",
   "execution_count": 13,
   "id": "3be0c55c",
   "metadata": {},
   "outputs": [
    {
     "data": {
      "text/plain": [
       "<AxesSubplot:xlabel='price', ylabel='Count'>"
      ]
     },
     "execution_count": 13,
     "metadata": {},
     "output_type": "execute_result"
    },
    {
     "data": {
      "image/png": "[encoded data removed]",
      "text/plain": [
       "<Figure size 432x288 with 1 Axes>"
      ]
     },
     "metadata": {
      "needs_background": "light"
     },
     "output_type": "display_data"
    }
   ],
   "source": [
    "sns.histplot(df['price'],bins=10)"
   ]
  },
  {
   "cell_type": "code",
   "execution_count": 14,
   "id": "7713afce",
   "metadata": {},
   "outputs": [
    {
     "data": {
      "text/plain": [
       "<function matplotlib.pyplot.show(close=None, block=None)>"
      ]
     },
     "execution_count": 14,
     "metadata": {},
     "output_type": "execute_result"
    },
    {
     "data": {
      "image/png": "[encoded data removed]",
      "text/plain": [
       "<Figure size 432x288 with 1 Axes>"
      ]
     },
     "metadata": {
      "needs_background": "light"
     },
     "output_type": "display_data"
    }
   ],
   "source": [
    "sns.countplot(df['transmission'])\n",
    "plt.show"
   ]
  },
  {
   "cell_type": "code",
   "execution_count": 15,
   "id": "7c90791a",
   "metadata": {},
   "outputs": [
    {
     "data": {
      "text/plain": [
       "<function matplotlib.pyplot.show(close=None, block=None)>"
      ]
     },
     "execution_count": 15,
     "metadata": {},
     "output_type": "execute_result"
    },
    {
     "data": {
      "image/png": "[encoded data removed]",
      "text/plain": [
       "<Figure size 432x288 with 1 Axes>"
      ]
     },
     "metadata": {
      "needs_background": "light"
     },
     "output_type": "display_data"
    }
   ],
   "source": [
    "sns.countplot(df['fuelType'])\n",
    "plt.show"
   ]
  },
  {
   "cell_type": "code",
   "execution_count": 16,
   "id": "472be2b0",
   "metadata": {},
   "outputs": [
    {
     "data": {
      "text/plain": [
       "<AxesSubplot:>"
      ]
     },
     "execution_count": 16,
     "metadata": {},
     "output_type": "execute_result"
    },
    {
     "data": {
      "image/png": "[encoded data removed]",
      "text/plain": [
       "<Figure size 432x288 with 1 Axes>"
      ]
     },
     "metadata": {
      "needs_background": "light"
     },
     "output_type": "display_data"
    }
   ],
   "source": [
    "df['year'].value_counts().plot(kind='barh',color = 'red')\n",
    "\n"
   ]
  },
  {
   "cell_type": "code",
   "execution_count": 17,
   "id": "00d58673",
   "metadata": {},
   "outputs": [
    {
     "data": {
      "text/plain": [
       "<AxesSubplot:>"
      ]
     },
     "execution_count": 17,
     "metadata": {},
     "output_type": "execute_result"
    },
    {
     "data": {
      "image/png": "[encoded data removed]",
      "text/plain": [
       "<Figure size 432x288 with 1 Axes>"
      ]
     },
     "metadata": {
      "needs_background": "light"
     },
     "output_type": "display_data"
    }
   ],
   "source": [
    "df['model'].value_counts().plot(kind='barh',color = 'blue')\n"
   ]
  },
  {
   "cell_type": "code",
   "execution_count": 18,
   "id": "134fccd5",
   "metadata": {},
   "outputs": [
    {
     "data": {
      "text/plain": [
       " Tucson      1300\n",
       " I10         1092\n",
       " I30          536\n",
       " I20          496\n",
       " Kona         328\n",
       " Ioniq        284\n",
       " Santa Fe     245\n",
       " IX20         204\n",
       " I40          127\n",
       " IX35         118\n",
       " I800         117\n",
       " Getz           6\n",
       " Veloster       3\n",
       " Terracan       2\n",
       " Accent         1\n",
       " Amica          1\n",
       "Name: model, dtype: int64"
      ]
     },
     "execution_count": 18,
     "metadata": {},
     "output_type": "execute_result"
    }
   ],
   "source": [
    "df['model'].value_counts()"
   ]
  },
  {
   "cell_type": "code",
   "execution_count": 19,
   "id": "f683d9c1",
   "metadata": {},
   "outputs": [
    {
     "data": {
      "text/plain": [
       "model           0\n",
       "year            0\n",
       "price           0\n",
       "transmission    0\n",
       "mileage         0\n",
       "fuelType        0\n",
       "tax             0\n",
       "mpg             0\n",
       "engineSize      0\n",
       "dtype: int64"
      ]
     },
     "execution_count": 19,
     "metadata": {},
     "output_type": "execute_result"
    }
   ],
   "source": [
    "df.isnull().sum()"
   ]
  },
  {
   "cell_type": "code",
   "execution_count": 20,
   "id": "2d450819",
   "metadata": {},
   "outputs": [
    {
     "name": "stdout",
     "output_type": "stream",
     "text": [
      "model\n",
      "year\n",
      "price\n",
      "transmission\n",
      "mileage\n",
      "fuelType\n",
      "tax\n",
      "mpg\n",
      "engineSize\n"
     ]
    }
   ],
   "source": [
    "for col in df:\n",
    "    print(col)\n",
    "    "
   ]
  },
  {
   "cell_type": "markdown",
   "id": "2b8fbc01",
   "metadata": {},
   "source": [
    "# converting the non numerical values using LabelEncoder"
   ]
  },
  {
   "cell_type": "code",
   "execution_count": 43,
   "id": "71b6fc41",
   "metadata": {},
   "outputs": [],
   "source": [
    "from sklearn.preprocessing import LabelEncoder\n",
    "from sklearn.model_selection import train_test_split\n",
    "from sklearn import preprocessing"
   ]
  },
  {
   "cell_type": "code",
   "execution_count": 44,
   "id": "a2e6b3f7",
   "metadata": {},
   "outputs": [],
   "source": [
    "le = LabelEncoder()"
   ]
  },
  {
   "cell_type": "code",
   "execution_count": 45,
   "id": "379b9bb5",
   "metadata": {},
   "outputs": [],
   "source": [
    "df['transmission'] = le.fit_transform(df['transmission'])\n",
    "df['fuelType'] = le.fit_transform(df['fuelType'])\n",
    "df['model'] = le.fit_transform(df['model'])"
   ]
  },
  {
   "cell_type": "markdown",
   "id": "eba8a69a",
   "metadata": {},
   "source": [
    "# LinearRegression"
   ]
  },
  {
   "cell_type": "code",
   "execution_count": 46,
   "id": "663090c2",
   "metadata": {},
   "outputs": [],
   "source": [
    "from sklearn.linear_model import LinearRegression\n",
    "from sklearn.model_selection import train_test_split\n",
    "from sklearn.metrics import classification_report\n",
    "from sklearn.metrics import confusion_matrix,accuracy_score"
   ]
  },
  {
   "cell_type": "code",
   "execution_count": 47,
   "id": "68e91654",
   "metadata": {},
   "outputs": [],
   "source": [
    "x_train, x_test, y_train, y_test = train_test_split(df.drop(['price'],axis=1), \n",
    "                                                    df['price'], test_size=0.20, \n",
    "                                                    random_state=3)"
   ]
  },
  {
   "cell_type": "code",
   "execution_count": 48,
   "id": "8d9d385a",
   "metadata": {},
   "outputs": [
    {
     "data": {
      "text/plain": [
       "LinearRegression()"
      ]
     },
     "execution_count": 48,
     "metadata": {},
     "output_type": "execute_result"
    }
   ],
   "source": [
    "model = LinearRegression()\n",
    "model.fit(x_train,y_train)"
   ]
  },
  {
   "cell_type": "code",
   "execution_count": 24,
   "id": "ad2c8f58",
   "metadata": {},
   "outputs": [
    {
     "name": "stdout",
     "output_type": "stream",
     "text": [
      "78.05844611420054 %\n"
     ]
    }
   ],
   "source": [
    "accuracy = model.score(x_test, y_test)\n",
    "print(accuracy*100,'%')"
   ]
  },
  {
   "cell_type": "markdown",
   "id": "ab8d4d79",
   "metadata": {},
   "source": [
    "# DecisionTree"
   ]
  },
  {
   "cell_type": "code",
   "execution_count": 28,
   "id": "505e413e",
   "metadata": {},
   "outputs": [
    {
     "data": {
      "text/plain": [
       "DecisionTreeClassifier(criterion='entropy', random_state=6)"
      ]
     },
     "execution_count": 28,
     "metadata": {},
     "output_type": "execute_result"
    }
   ],
   "source": [
    "from sklearn.tree import DecisionTreeClassifier\n",
    "classifier= DecisionTreeClassifier(criterion='entropy',random_state=6)\n",
    "classifier.fit(x_train,y_train)"
   ]
  },
  {
   "cell_type": "code",
   "execution_count": 29,
   "id": "3dcc9091",
   "metadata": {},
   "outputs": [],
   "source": [
    "y_pred=classifier.predict(x_test)"
   ]
  },
  {
   "cell_type": "code",
   "execution_count": 30,
   "id": "991830c0",
   "metadata": {},
   "outputs": [
    {
     "name": "stdout",
     "output_type": "stream",
     "text": [
      "[[0 0 0 ... 0 0 0]\n",
      " [0 0 0 ... 0 0 0]\n",
      " [0 0 0 ... 0 0 0]\n",
      " ...\n",
      " [0 0 0 ... 0 0 0]\n",
      " [0 0 0 ... 0 0 0]\n",
      " [0 0 0 ... 0 0 0]]\n"
     ]
    },
    {
     "data": {
      "text/plain": [
       "0.05555555555555555"
      ]
     },
     "execution_count": 30,
     "metadata": {},
     "output_type": "execute_result"
    }
   ],
   "source": [
    "cm=confusion_matrix(y_test,y_pred)\n",
    "print(cm)\n",
    "accuracy_score(y_test,y_pred)"
   ]
  },
  {
   "cell_type": "markdown",
   "id": "5e2a624a",
   "metadata": {},
   "source": [
    "# Logistics Regression"
   ]
  },
  {
   "cell_type": "code",
   "execution_count": 57,
   "id": "6150d2f6",
   "metadata": {},
   "outputs": [],
   "source": [
    "from sklearn.linear_model import LogisticRegression\n",
    "from sklearn.model_selection import train_test_split\n",
    "from sklearn import preprocessing"
   ]
  },
  {
   "cell_type": "code",
   "execution_count": 58,
   "id": "bc372f95",
   "metadata": {},
   "outputs": [],
   "source": [
    "x_train,x_test,y_train,y_test=train_test_split(df.drop(['price'],axis=1),\n",
    "                                               df['price'],test_size=0.20,\n",
    "                                               random_state=7)\n"
   ]
  },
  {
   "cell_type": "code",
   "execution_count": 59,
   "id": "a3f8b34b",
   "metadata": {},
   "outputs": [
    {
     "data": {
      "text/plain": [
       "LogisticRegression()"
      ]
     },
     "execution_count": 59,
     "metadata": {},
     "output_type": "execute_result"
    }
   ],
   "source": [
    "logmodel= LogisticRegression()\n",
    "logmodel.fit(x_train,y_train)"
   ]
  },
  {
   "cell_type": "code",
   "execution_count": 60,
   "id": "edad76c9",
   "metadata": {},
   "outputs": [
    {
     "data": {
      "text/html": [
       "<div>\n",
       "<style scoped>\n",
       "    .dataframe tbody tr th:only-of-type {\n",
       "        vertical-align: middle;\n",
       "    }\n",
       "\n",
       "    .dataframe tbody tr th {\n",
       "        vertical-align: top;\n",
       "    }\n",
       "\n",
       "    .dataframe thead th {\n",
       "        text-align: right;\n",
       "    }\n",
       "</style>\n",
       "<table border=\"1\" class=\"dataframe\">\n",
       "  <thead>\n",
       "    <tr style=\"text-align: right;\">\n",
       "      <th></th>\n",
       "      <th>model</th>\n",
       "      <th>year</th>\n",
       "      <th>transmission</th>\n",
       "      <th>mileage</th>\n",
       "      <th>fuelType</th>\n",
       "      <th>tax</th>\n",
       "      <th>mpg</th>\n",
       "      <th>engineSize</th>\n",
       "    </tr>\n",
       "  </thead>\n",
       "  <tbody>\n",
       "    <tr>\n",
       "      <th>4614</th>\n",
       "      <td>5</td>\n",
       "      <td>2017</td>\n",
       "      <td>0</td>\n",
       "      <td>19367</td>\n",
       "      <td>3</td>\n",
       "      <td>145</td>\n",
       "      <td>51.4</td>\n",
       "      <td>1.4</td>\n",
       "    </tr>\n",
       "    <tr>\n",
       "      <th>766</th>\n",
       "      <td>3</td>\n",
       "      <td>2020</td>\n",
       "      <td>1</td>\n",
       "      <td>371</td>\n",
       "      <td>3</td>\n",
       "      <td>150</td>\n",
       "      <td>56.5</td>\n",
       "      <td>1.0</td>\n",
       "    </tr>\n",
       "    <tr>\n",
       "      <th>4244</th>\n",
       "      <td>3</td>\n",
       "      <td>2016</td>\n",
       "      <td>1</td>\n",
       "      <td>17272</td>\n",
       "      <td>3</td>\n",
       "      <td>20</td>\n",
       "      <td>61.4</td>\n",
       "      <td>0.0</td>\n",
       "    </tr>\n",
       "    <tr>\n",
       "      <th>78</th>\n",
       "      <td>14</td>\n",
       "      <td>2017</td>\n",
       "      <td>1</td>\n",
       "      <td>2236</td>\n",
       "      <td>3</td>\n",
       "      <td>160</td>\n",
       "      <td>44.8</td>\n",
       "      <td>1.6</td>\n",
       "    </tr>\n",
       "    <tr>\n",
       "      <th>2402</th>\n",
       "      <td>10</td>\n",
       "      <td>2017</td>\n",
       "      <td>0</td>\n",
       "      <td>8305</td>\n",
       "      <td>1</td>\n",
       "      <td>135</td>\n",
       "      <td>78.5</td>\n",
       "      <td>1.6</td>\n",
       "    </tr>\n",
       "  </tbody>\n",
       "</table>\n",
       "</div>"
      ],
      "text/plain": [
       "      model  year  transmission  mileage  fuelType  tax   mpg  engineSize\n",
       "4614      5  2017             0    19367         3  145  51.4         1.4\n",
       "766       3  2020             1      371         3  150  56.5         1.0\n",
       "4244      3  2016             1    17272         3   20  61.4         0.0\n",
       "78       14  2017             1     2236         3  160  44.8         1.6\n",
       "2402     10  2017             0     8305         1  135  78.5         1.6"
      ]
     },
     "execution_count": 60,
     "metadata": {},
     "output_type": "execute_result"
    }
   ],
   "source": [
    "predictions = logmodel.predict(x_test)\n",
    "predictions = logmodel.predict(x_train)\n",
    "x_test.head()\n"
   ]
  },
  {
   "cell_type": "code",
   "execution_count": 61,
   "id": "4f813d8b",
   "metadata": {},
   "outputs": [
    {
     "name": "stdout",
     "output_type": "stream",
     "text": [
      "0.720164609053498 %\n"
     ]
    }
   ],
   "source": [
    "accuracy = logmodel.score(x_test,y_test)\n",
    "print(accuracy*100,'%')"
   ]
  },
  {
   "cell_type": "markdown",
   "id": "8edf5e03",
   "metadata": {},
   "source": [
    "# SupportVector"
   ]
  },
  {
   "cell_type": "code",
   "execution_count": 49,
   "id": "3427e5b1",
   "metadata": {},
   "outputs": [],
   "source": [
    "from sklearn.preprocessing import StandardScaler\n",
    "from sklearn.model_selection import train_test_split\n",
    "from sklearn.metrics import accuracy_score\n",
    "from sklearn.metrics import confusion_matrix,classification_report\n",
    "from sklearn.svm import SVC"
   ]
  },
  {
   "cell_type": "code",
   "execution_count": 50,
   "id": "55683d24",
   "metadata": {},
   "outputs": [],
   "source": [
    "scaler=StandardScaler()\n",
    "x=df.drop('price',axis=1)\n",
    "y=df['price']\n",
    "\n",
    "scaler.fit(x)\n",
    "x_transformed=scaler.transform(x)\n",
    "#transforming ur data into standard scale\n",
    "x_train,x_test,y_train,y_test=train_test_split(x_transformed,y,test_size=0.2)"
   ]
  },
  {
   "cell_type": "code",
   "execution_count": 51,
   "id": "cffd0816",
   "metadata": {},
   "outputs": [
    {
     "name": "stdout",
     "output_type": "stream",
     "text": [
      "Train Set Accuracy:7.79320987654321\n",
      "Test Set Accuracy:4.218106995884774\n",
      "\n",
      "Confusion Matrix:\n",
      "[[0 0 0 ... 0 0 0]\n",
      " [0 0 0 ... 0 0 0]\n",
      " [0 0 0 ... 0 0 0]\n",
      " ...\n",
      " [0 0 0 ... 0 0 0]\n",
      " [0 0 0 ... 0 0 0]\n",
      " [0 0 0 ... 0 0 0]]\n",
      "\n",
      "ClassificationReport:\n",
      "              precision    recall  f1-score   support\n",
      "\n",
      "        1990       0.00      0.00      0.00         0\n",
      "        1995       0.00      0.00      0.00         1\n",
      "        2000       0.00      0.00      0.00         0\n",
      "        2395       0.00      0.00      0.00         1\n",
      "        2495       0.00      0.00      0.00         2\n",
      "        2699       0.00      0.00      0.00         0\n",
      "        2799       0.00      0.00      0.00         0\n",
      "        2995       0.00      0.00      0.00         0\n",
      "        3095       0.00      0.00      0.00         0\n",
      "        3290       0.00      0.00      0.00         0\n",
      "        3295       0.00      0.00      0.00         0\n",
      "        3490       0.00      0.00      0.00         0\n",
      "        3695       0.00      0.00      0.00         0\n",
      "        3795       0.00      0.00      0.00         0\n",
      "        3799       0.00      0.00      0.00         0\n",
      "        3885       0.00      0.00      0.00         0\n",
      "        3990       0.00      0.00      0.00         0\n",
      "        3995       0.00      0.00      0.00         0\n",
      "        4492       0.00      0.00      0.00         0\n",
      "        4495       0.00      0.00      0.00         6\n",
      "        4499       0.00      0.00      0.00         0\n",
      "        4599       0.00      0.00      0.00         0\n",
      "        4780       0.00      0.00      0.00         0\n",
      "        4871       0.00      0.00      0.00         0\n",
      "        4980       0.00      0.00      0.00         0\n",
      "        4985       0.00      0.00      0.00         0\n",
      "        4990       0.00      0.00      0.00         0\n",
      "        4995       0.00      0.00      0.00         4\n",
      "        5000       0.00      0.00      0.00         3\n",
      "        5195       0.00      0.00      0.00         0\n",
      "        5290       0.00      0.00      0.00         0\n",
      "        5300       0.00      0.00      0.00         0\n",
      "        5408       0.00      0.00      0.00         0\n",
      "        5490       0.00      0.00      0.00         0\n",
      "        5495       0.00      0.00      0.00         0\n",
      "        5498       0.00      0.00      0.00         0\n",
      "        5588       0.00      0.00      0.00         0\n",
      "        5631       0.00      0.00      0.00         0\n",
      "        5690       0.00      0.00      0.00         0\n",
      "        5702       0.00      0.00      0.00         0\n",
      "        5722       0.00      0.00      0.00         0\n",
      "        5789       0.00      0.00      0.00         0\n",
      "        5794       0.00      0.00      0.00         0\n",
      "        5950       0.00      0.00      0.00         0\n",
      "        5989       0.00      0.00      0.00         0\n",
      "        5992       0.00      0.00      0.00         0\n",
      "        5995       0.00      0.00      0.00         7\n",
      "        5998       0.00      0.00      0.00         0\n",
      "        5999       0.00      0.00      0.00         0\n",
      "        6000       0.50      0.04      0.08        23\n",
      "        6130       0.00      0.00      0.00         0\n",
      "        6190       0.00      0.00      0.00         0\n",
      "        6200       0.00      0.00      0.00         0\n",
      "        6297       0.00      0.00      0.00         0\n",
      "        6300       0.00      0.00      0.00         0\n",
      "        6350       0.00      0.00      0.00         0\n",
      "        6390       0.00      0.00      0.00         0\n",
      "        6400       0.00      0.00      0.00         0\n",
      "        6490       0.00      0.00      0.00         0\n",
      "        6495       0.00      0.00      0.00         0\n",
      "        6498       0.00      0.00      0.00         0\n",
      "        6499       0.00      0.00      0.00         0\n",
      "        6500       0.00      0.00      0.00         0\n",
      "        6620       0.00      0.00      0.00         0\n",
      "        6699       0.00      0.00      0.00         0\n",
      "        6700       0.00      0.00      0.00         0\n",
      "        6795       0.00      0.00      0.00         0\n",
      "        6798       0.00      0.00      0.00         0\n",
      "        6799       0.00      0.00      0.00         0\n",
      "        6800       0.00      0.00      0.00         0\n",
      "        6844       0.00      0.00      0.00         0\n",
      "        6850       0.00      0.00      0.00         0\n",
      "        6860       0.00      0.00      0.00         0\n",
      "        6899       0.00      0.00      0.00         0\n",
      "        6950       0.00      0.00      0.00         0\n",
      "        6970       0.00      0.00      0.00         0\n",
      "        6975       0.00      0.00      0.00         0\n",
      "        6980       0.00      0.00      0.00         0\n",
      "        6988       0.00      0.00      0.00         0\n",
      "        6990       0.00      0.00      0.00         5\n",
      "        6991       0.00      0.00      0.00         0\n",
      "        6995       0.22      0.12      0.16        16\n",
      "        6998       0.00      0.00      0.00        10\n",
      "        6999       0.00      0.00      0.00         0\n",
      "        7000       0.00      0.00      0.00         0\n",
      "        7100       0.00      0.00      0.00         0\n",
      "        7159       0.00      0.00      0.00         0\n",
      "        7180       0.00      0.00      0.00         0\n",
      "        7185       0.00      0.00      0.00         0\n",
      "        7198       0.00      0.00      0.00         0\n",
      "        7200       0.00      0.00      0.00         0\n",
      "        7234       0.00      0.00      0.00         0\n",
      "        7240       0.00      0.00      0.00         0\n",
      "        7250       0.00      0.00      0.00         0\n",
      "        7259       0.00      0.00      0.00         0\n",
      "        7260       0.00      0.00      0.00         0\n",
      "        7281       0.00      0.00      0.00         0\n",
      "        7289       0.00      0.00      0.00         0\n",
      "        7290       0.00      0.00      0.00         0\n",
      "        7291       0.00      0.00      0.00         0\n",
      "        7295       0.00      0.00      0.00         0\n",
      "        7297       0.00      0.00      0.00         0\n",
      "        7298       0.00      0.00      0.00         0\n",
      "        7350       0.00      0.00      0.00         0\n",
      "        7390       0.00      0.00      0.00         0\n",
      "        7467       0.00      0.00      0.00         0\n",
      "        7484       0.00      0.00      0.00         0\n",
      "        7485       0.00      0.00      0.00         0\n",
      "        7490       0.00      0.00      0.00         0\n",
      "        7495       0.00      0.00      0.00         1\n",
      "        7497       0.00      0.00      0.00         0\n",
      "        7498       0.00      0.00      0.00         0\n",
      "        7499       0.00      0.00      0.00         0\n",
      "        7500       0.00      0.00      0.00         0\n",
      "        7520       0.00      0.00      0.00         0\n",
      "        7560       0.00      0.00      0.00         0\n",
      "        7569       0.00      0.00      0.00         0\n",
      "        7599       0.00      0.00      0.00         0\n",
      "        7600       0.00      0.00      0.00         0\n",
      "        7646       0.00      0.00      0.00         0\n",
      "        7650       0.00      0.00      0.00         0\n",
      "        7695       0.00      0.00      0.00         0\n",
      "        7698       0.00      0.00      0.00         0\n",
      "        7750       0.00      0.00      0.00         0\n",
      "        7760       0.00      0.00      0.00         0\n",
      "        7775       0.00      0.00      0.00         0\n",
      "        7795       0.00      0.00      0.00         0\n",
      "        7799       0.00      0.00      0.00         0\n",
      "        7849       0.00      0.00      0.00         0\n",
      "        7885       0.00      0.00      0.00         0\n",
      "        7890       0.00      0.00      0.00         0\n",
      "        7899       0.00      0.00      0.00         0\n",
      "        7900       0.00      0.00      0.00         0\n",
      "        7924       0.00      0.00      0.00         0\n",
      "        7952       0.00      0.00      0.00         0\n",
      "        7985       0.00      0.00      0.00         0\n",
      "        7990       0.00      0.00      0.00         0\n",
      "        7991       0.00      0.00      0.00         0\n",
      "        7995       0.75      0.04      0.08       202\n",
      "        7998       0.50      0.02      0.04        43\n",
      "        7999       0.00      0.00      0.00         0\n",
      "        8000       0.00      0.00      0.00         0\n",
      "        8099       0.00      0.00      0.00         0\n",
      "        8100       0.00      0.00      0.00         0\n",
      "        8189       0.00      0.00      0.00         0\n",
      "        8199       0.00      0.00      0.00         0\n",
      "        8200       0.00      0.00      0.00         0\n",
      "        8250       0.00      0.00      0.00         0\n",
      "        8290       0.00      0.00      0.00         0\n",
      "        8291       0.00      0.00      0.00         0\n",
      "        8295       0.00      0.00      0.00         0\n",
      "        8296       0.00      0.00      0.00         0\n",
      "        8298       0.00      0.00      0.00         0\n",
      "        8350       0.00      0.00      0.00         0\n",
      "        8375       0.00      0.00      0.00         0\n",
      "        8395       0.00      0.00      0.00         0\n",
      "        8399       0.00      0.00      0.00         0\n",
      "        8450       0.00      0.00      0.00         0\n",
      "        8490       0.00      0.00      0.00         0\n",
      "        8491       0.00      0.00      0.00         0\n",
      "        8493       0.00      0.00      0.00         0\n",
      "        8495       0.00      0.00      0.00         3\n",
      "        8498       0.33      0.09      0.14        11\n",
      "        8499       0.00      0.00      0.00         0\n",
      "        8500       0.00      0.00      0.00         1\n",
      "        8595       0.00      0.00      0.00         0\n",
      "        8690       0.00      0.00      0.00         0\n",
      "        8698       0.00      0.00      0.00         0\n",
      "        8700       0.00      0.00      0.00         0\n",
      "        8750       0.00      0.00      0.00         0\n",
      "        8789       0.00      0.00      0.00         0\n",
      "        8791       0.00      0.00      0.00         0\n",
      "        8795       0.00      0.00      0.00         0\n",
      "        8798       0.00      0.00      0.00         0\n",
      "        8825       0.00      0.00      0.00         0\n",
      "        8891       0.00      0.00      0.00         0\n",
      "        8900       0.00      0.00      0.00         0\n",
      "        8980       0.00      0.00      0.00         0\n",
      "        8990       0.00      0.00      0.00         0\n",
      "        8991       0.00      0.00      0.00         0\n",
      "        8995       0.17      0.06      0.09        34\n",
      "        8998       0.00      0.00      0.00         0\n",
      "        8999       0.00      0.00      0.00         0\n",
      "        9000       0.00      0.00      0.00         1\n",
      "        9190       0.00      0.00      0.00         0\n",
      "        9250       0.00      0.00      0.00         0\n",
      "        9295       0.00      0.00      0.00         0\n",
      "        9298       0.00      0.00      0.00         0\n",
      "        9299       0.00      0.00      0.00         0\n",
      "        9350       0.00      0.00      0.00         0\n",
      "        9397       0.00      0.00      0.00         0\n",
      "        9399       0.00      0.00      0.00         0\n",
      "        9400       0.00      0.00      0.00         0\n",
      "        9450       0.00      0.00      0.00         0\n",
      "        9470       0.00      0.00      0.00         0\n",
      "        9485       0.00      0.00      0.00         0\n",
      "        9490       0.00      0.00      0.00         0\n",
      "        9491       1.00      0.02      0.04        50\n",
      "        9494       0.00      0.00      0.00         0\n",
      "        9495       0.00      0.00      0.00         1\n",
      "        9498       0.00      0.00      0.00         0\n",
      "        9499       0.50      0.08      0.13        13\n",
      "        9500       0.00      0.00      0.00         0\n",
      "        9580       0.00      0.00      0.00         0\n",
      "        9590       0.00      0.00      0.00         0\n",
      "        9670       0.00      0.00      0.00         0\n",
      "        9699       0.00      0.00      0.00         0\n",
      "        9750       0.00      0.00      0.00         0\n",
      "        9795       0.00      0.00      0.00         0\n",
      "        9798       0.00      0.00      0.00         0\n",
      "        9970       0.00      0.00      0.00         0\n",
      "        9987       0.00      0.00      0.00         0\n",
      "        9989       0.00      0.00      0.00         0\n",
      "        9990       0.00      0.00      0.00         0\n",
      "        9991       0.00      0.00      0.00         0\n",
      "        9995       0.29      0.08      0.12        25\n",
      "        9999       0.00      0.00      0.00         0\n",
      "       10000       0.00      0.00      0.00         0\n",
      "       10199       0.00      0.00      0.00         0\n",
      "       10220       0.00      0.00      0.00         0\n",
      "       10222       0.00      0.00      0.00         0\n",
      "       10247       0.00      0.00      0.00         0\n",
      "       10269       0.00      0.00      0.00         0\n",
      "       10277       0.00      0.00      0.00         0\n",
      "       10290       0.00      0.00      0.00         0\n",
      "       10298       0.00      0.00      0.00         0\n",
      "       10395       0.00      0.00      0.00         0\n",
      "       10399       0.00      0.00      0.00         0\n",
      "       10442       0.00      0.00      0.00         0\n",
      "       10465       0.00      0.00      0.00         0\n",
      "       10485       0.00      0.00      0.00         0\n",
      "       10490       0.00      0.00      0.00         0\n",
      "       10495       0.00      0.00      0.00        15\n",
      "       10498       0.00      0.00      0.00         0\n",
      "       10500       0.00      0.00      0.00         0\n",
      "       10575       0.00      0.00      0.00         0\n",
      "       10654       0.00      0.00      0.00         0\n",
      "       10695       0.00      0.00      0.00         0\n",
      "       10776       0.00      0.00      0.00         0\n",
      "       10780       0.00      0.00      0.00         0\n",
      "       10950       0.00      0.00      0.00         0\n",
      "       10970       0.00      0.00      0.00         0\n",
      "       10985       0.00      0.00      0.00         0\n",
      "       10990       0.00      0.00      0.00         0\n",
      "       10991       0.00      0.00      0.00         0\n",
      "       10995       0.00      0.00      0.00         3\n",
      "       10998       0.00      0.00      0.00         0\n",
      "       10999       0.00      0.00      0.00         0\n",
      "       11000       0.00      0.00      0.00         0\n",
      "       11091       0.00      0.00      0.00         0\n",
      "       11120       0.00      0.00      0.00         0\n",
      "       11151       0.00      0.00      0.00         0\n",
      "       11160       0.00      0.00      0.00         0\n",
      "       11180       0.00      0.00      0.00         0\n",
      "       11199       0.00      0.00      0.00         0\n",
      "       11200       0.00      0.00      0.00         0\n",
      "       11250       0.00      0.00      0.00         0\n",
      "       11295       0.00      0.00      0.00         0\n",
      "       11298       0.00      0.00      0.00         0\n",
      "       11340       0.00      0.00      0.00         0\n",
      "       11360       0.00      0.00      0.00         0\n",
      "       11388       0.00      0.00      0.00         0\n",
      "       11399       0.00      0.00      0.00         0\n",
      "       11400       0.00      0.00      0.00         0\n",
      "       11490       0.00      0.00      0.00         0\n",
      "       11495       0.00      0.00      0.00         0\n",
      "       11500       0.00      0.00      0.00         0\n",
      "       11599       0.00      0.00      0.00         0\n",
      "       11650       0.00      0.00      0.00         0\n",
      "       11670       0.00      0.00      0.00         0\n",
      "       11698       0.00      0.00      0.00         0\n",
      "       11699       0.00      0.00      0.00         0\n",
      "       11750       0.00      0.00      0.00         0\n",
      "       11780       0.00      0.00      0.00         0\n",
      "       11795       0.00      0.00      0.00         0\n",
      "       11797       0.00      0.00      0.00         0\n",
      "       11799       0.00      0.00      0.00         0\n",
      "       11800       0.00      0.00      0.00         0\n",
      "       11830       0.00      0.00      0.00         0\n",
      "       11895       0.00      0.00      0.00         0\n",
      "       11980       0.00      0.00      0.00         0\n",
      "       11989       0.00      0.00      0.00         0\n",
      "       11990       0.00      0.00      0.00         1\n",
      "       11995       0.00      0.00      0.00         0\n",
      "       11998       0.25      0.03      0.05        39\n",
      "       12000       0.00      0.00      0.00         0\n",
      "       12026       0.00      0.00      0.00         0\n",
      "       12190       0.00      0.00      0.00         0\n",
      "       12280       0.00      0.00      0.00         0\n",
      "       12299       0.00      0.00      0.00         0\n",
      "       12329       0.00      0.00      0.00         0\n",
      "       12377       0.00      0.00      0.00         0\n",
      "       12394       0.00      0.00      0.00         0\n",
      "       12395       0.00      0.00      0.00         0\n",
      "       12450       0.00      0.00      0.00         0\n",
      "       12485       0.00      0.00      0.00         0\n",
      "       12490       0.00      0.00      0.00         0\n",
      "       12495       0.00      0.00      0.00         1\n",
      "       12498       0.00      0.00      0.00         0\n",
      "       12500       0.00      0.00      0.00         0\n",
      "       12695       0.00      0.00      0.00         0\n",
      "       12698       0.00      0.00      0.00         0\n",
      "       12700       0.00      0.00      0.00         0\n",
      "       12750       0.00      0.00      0.00         0\n",
      "       12790       0.00      0.00      0.00         0\n",
      "       12795       0.00      0.00      0.00         0\n",
      "       12798       0.00      0.00      0.00         0\n",
      "       12800       0.00      0.00      0.00         0\n",
      "       12823       0.00      0.00      0.00         0\n",
      "       12825       0.00      0.00      0.00         0\n",
      "       12900       0.00      0.00      0.00         0\n",
      "       12970       0.00      0.00      0.00         0\n",
      "       12985       0.00      0.00      0.00         0\n",
      "       12990       0.00      0.00      0.00         0\n",
      "       12991       0.00      0.00      0.00         0\n",
      "       12995       0.00      0.00      0.00        13\n",
      "       12996       0.00      0.00      0.00         0\n",
      "       12998       0.00      0.00      0.00         0\n",
      "       12999       0.00      0.00      0.00         0\n",
      "       13000       0.00      0.00      0.00         0\n",
      "       13095       0.00      0.00      0.00         0\n",
      "       13100       0.00      0.00      0.00         0\n",
      "       13147       0.00      0.00      0.00         0\n",
      "       13182       0.00      0.00      0.00         0\n",
      "       13200       0.00      0.00      0.00         0\n",
      "       13250       0.00      0.00      0.00         0\n",
      "       13269       0.00      0.00      0.00         0\n",
      "       13280       0.00      0.00      0.00         0\n",
      "       13295       0.00      0.00      0.00         0\n",
      "       13298       0.00      0.00      0.00         0\n",
      "       13300       0.00      0.00      0.00         0\n",
      "       13350       0.00      0.00      0.00         0\n",
      "       13366       0.00      0.00      0.00         0\n",
      "       13400       0.00      0.00      0.00         0\n",
      "       13470       0.00      0.00      0.00         0\n",
      "       13474       0.00      0.00      0.00         0\n",
      "       13485       0.00      0.00      0.00         0\n",
      "       13490       0.00      0.00      0.00         0\n",
      "       13495       0.00      0.00      0.00         0\n",
      "       13498       0.00      0.00      0.00         0\n",
      "       13499       0.00      0.00      0.00         0\n",
      "       13500       0.00      0.00      0.00         0\n",
      "       13595       0.00      0.00      0.00         0\n",
      "       13666       0.00      0.00      0.00         0\n",
      "       13690       0.00      0.00      0.00         0\n",
      "       13695       0.00      0.00      0.00         0\n",
      "       13698       0.00      0.00      0.00         0\n",
      "       13699       0.00      0.00      0.00         0\n",
      "       13709       0.00      0.00      0.00         0\n",
      "       13771       0.00      0.00      0.00         0\n",
      "       13795       0.00      0.00      0.00         0\n",
      "       13798       0.00      0.00      0.00         0\n",
      "       13799       0.00      0.00      0.00         0\n",
      "       13850       0.00      0.00      0.00         0\n",
      "       13888       0.00      0.00      0.00         0\n",
      "       13899       0.00      0.00      0.00         0\n",
      "       13920       0.00      0.00      0.00         0\n",
      "       13949       0.00      0.00      0.00         0\n",
      "       13970       0.00      0.00      0.00         0\n",
      "       13975       0.00      0.00      0.00         0\n",
      "       13980       0.00      0.00      0.00         0\n",
      "       13989       0.00      0.00      0.00         0\n",
      "       13990       0.00      0.00      0.00         0\n",
      "       13995       0.40      0.02      0.04        89\n",
      "       13998       0.00      0.00      0.00        32\n",
      "       13999       0.00      0.00      0.00         0\n",
      "       14000       0.00      0.00      0.00         1\n",
      "       14062       0.00      0.00      0.00         0\n",
      "       14099       0.00      0.00      0.00         0\n",
      "       14195       0.00      0.00      0.00         0\n",
      "       14200       0.00      0.00      0.00         0\n",
      "       14250       0.00      0.00      0.00         0\n",
      "       14270       0.00      0.00      0.00         0\n",
      "       14290       0.00      0.00      0.00         0\n",
      "       14291       0.00      0.00      0.00         0\n",
      "       14295       0.00      0.00      0.00         0\n",
      "       14300       0.00      0.00      0.00         0\n",
      "       14394       0.00      0.00      0.00         0\n",
      "       14407       0.00      0.00      0.00         0\n",
      "       14430       0.00      0.00      0.00         0\n",
      "       14450       0.00      0.00      0.00         0\n",
      "       14470       0.00      0.00      0.00         0\n",
      "       14485       0.00      0.00      0.00         0\n",
      "       14490       0.00      0.00      0.00         0\n",
      "       14495       0.00      0.00      0.00         4\n",
      "       14498       0.00      0.00      0.00         0\n",
      "       14500       0.00      0.00      0.00         0\n",
      "       14550       0.00      0.00      0.00         0\n",
      "       14600       0.00      0.00      0.00         0\n",
      "       14640       0.00      0.00      0.00         0\n",
      "       14675       0.00      0.00      0.00         0\n",
      "       14680       0.00      0.00      0.00         0\n",
      "       14695       0.00      0.00      0.00         0\n",
      "       14698       0.00      0.00      0.00         0\n",
      "       14750       0.00      0.00      0.00         0\n",
      "       14788       0.00      0.00      0.00         0\n",
      "       14795       0.00      0.00      0.00         0\n",
      "       14798       0.00      0.00      0.00         0\n",
      "       14800       0.00      0.00      0.00         0\n",
      "       14897       0.00      0.00      0.00         0\n",
      "       14900       0.00      0.00      0.00         0\n",
      "       14950       0.00      0.00      0.00         0\n",
      "       14969       0.00      0.00      0.00         0\n",
      "       14980       0.00      0.00      0.00         0\n",
      "       14990       0.00      0.00      0.00         1\n",
      "       14995       0.18      0.06      0.09        36\n",
      "       14998       0.00      0.00      0.00        19\n",
      "       14999       0.00      0.00      0.00         0\n",
      "       15000       0.00      0.00      0.00         2\n",
      "       15120       0.00      0.00      0.00         0\n",
      "       15190       0.00      0.00      0.00         0\n",
      "       15199       0.00      0.00      0.00         0\n",
      "       15236       0.00      0.00      0.00         0\n",
      "       15298       0.00      0.00      0.00         0\n",
      "       15299       0.00      0.00      0.00         0\n",
      "       15300       0.00      0.00      0.00         0\n",
      "       15314       0.00      0.00      0.00         0\n",
      "       15390       0.00      0.00      0.00         0\n",
      "       15470       0.00      0.00      0.00         0\n",
      "       15480       0.00      0.00      0.00         0\n",
      "       15490       0.00      0.00      0.00         0\n",
      "       15495       0.00      0.00      0.00         0\n",
      "       15498       1.00      0.11      0.20        46\n",
      "       15499       0.00      0.00      0.00         0\n",
      "       15500       0.33      1.00      0.50         1\n",
      "       15594       0.00      0.00      0.00         0\n",
      "       15595       0.00      0.00      0.00         0\n",
      "       15600       0.00      0.00      0.00         0\n",
      "       15620       0.00      0.00      0.00         0\n",
      "       15680       0.00      0.00      0.00         0\n",
      "       15692       0.00      0.00      0.00         0\n",
      "       15698       0.00      0.00      0.00         0\n",
      "       15780       0.00      0.00      0.00         0\n",
      "       15790       0.00      0.00      0.00         0\n",
      "       15795       0.00      0.00      0.00         0\n",
      "       15799       0.00      0.00      0.00         0\n",
      "       15899       0.00      0.00      0.00         0\n",
      "       15949       0.00      0.00      0.00         0\n",
      "       15985       0.00      0.00      0.00         0\n",
      "       15990       0.00      0.00      0.00         0\n",
      "       15991       0.00      0.00      0.00         0\n",
      "       15995       0.00      0.00      0.00        82\n",
      "       15998       0.00      0.00      0.00        12\n",
      "       15999       0.00      0.00      0.00         0\n",
      "       16000       0.50      0.83      0.62         6\n",
      "       16095       0.00      0.00      0.00         0\n",
      "       16250       0.00      0.00      0.00         0\n",
      "       16280       0.00      0.00      0.00         0\n",
      "       16390       0.00      0.00      0.00         0\n",
      "       16445       0.00      0.00      0.00         0\n",
      "       16450       0.00      0.00      0.00         0\n",
      "       16470       0.00      0.00      0.00         0\n",
      "       16491       0.00      0.00      0.00         0\n",
      "       16495       0.00      0.00      0.00         0\n",
      "       16498       0.00      0.00      0.00         0\n",
      "       16499       0.00      0.00      0.00         0\n",
      "       16500       0.00      0.00      0.00         0\n",
      "       16595       0.00      0.00      0.00         0\n",
      "       16699       0.00      0.00      0.00         0\n",
      "       16750       0.00      0.00      0.00         0\n",
      "       16794       0.00      0.00      0.00         0\n",
      "       16800       0.00      0.00      0.00         0\n",
      "       16850       0.00      0.00      0.00         0\n",
      "       16922       0.00      0.00      0.00         0\n",
      "       16929       0.00      0.00      0.00         0\n",
      "       16980       0.00      0.00      0.00         0\n",
      "       16989       0.00      0.00      0.00         0\n",
      "       16990       0.00      0.00      0.00         0\n",
      "       16991       0.00      0.00      0.00         0\n",
      "       16995       0.00      0.00      0.00         8\n",
      "       16998       0.00      0.00      0.00         0\n",
      "       16999       0.00      0.00      0.00         0\n",
      "       17096       0.00      0.00      0.00         0\n",
      "       17190       0.00      0.00      0.00         0\n",
      "       17195       0.00      0.00      0.00         0\n",
      "       17295       0.00      0.00      0.00         0\n",
      "       17297       0.00      0.00      0.00         0\n",
      "       17298       0.00      0.00      0.00         0\n",
      "       17390       0.00      0.00      0.00         0\n",
      "       17450       0.00      0.00      0.00         0\n",
      "       17490       0.00      0.00      0.00         0\n",
      "       17495       0.00      0.00      0.00         0\n",
      "       17500       0.00      0.00      0.00         0\n",
      "       17690       0.00      0.00      0.00         0\n",
      "       17749       0.00      0.00      0.00         0\n",
      "       17750       0.00      0.00      0.00         5\n",
      "       17790       0.00      0.00      0.00         0\n",
      "       17800       0.00      0.00      0.00         0\n",
      "       17950       0.00      0.00      0.00         0\n",
      "       17980       0.00      0.00      0.00         0\n",
      "       17990       0.00      0.00      0.00         0\n",
      "       17995       0.00      0.00      0.00         4\n",
      "       17998       0.00      0.00      0.00         2\n",
      "       17999       0.00      0.00      0.00         0\n",
      "       18000       0.00      0.00      0.00         0\n",
      "       18310       0.00      0.00      0.00         0\n",
      "       18414       0.00      0.00      0.00         0\n",
      "       18430       0.00      0.00      0.00         0\n",
      "       18440       0.00      0.00      0.00         0\n",
      "       18480       0.00      0.00      0.00         0\n",
      "       18495       0.00      0.00      0.00         0\n",
      "       18497       0.00      0.00      0.00         0\n",
      "       18500       0.00      0.00      0.00         0\n",
      "       18570       0.00      0.00      0.00         0\n",
      "       18599       0.00      0.00      0.00         0\n",
      "       18670       0.00      0.00      0.00         0\n",
      "       18695       0.00      0.00      0.00         0\n",
      "       18843       0.00      0.00      0.00         0\n",
      "       18894       0.00      0.00      0.00         0\n",
      "       18990       0.00      0.00      0.00         0\n",
      "       18995       0.00      0.00      0.00         0\n",
      "       19000       0.00      0.00      0.00         0\n",
      "       19483       0.00      0.00      0.00         0\n",
      "       19490       0.00      0.00      0.00         0\n",
      "       19495       0.00      0.00      0.00         0\n",
      "       19500       0.00      0.00      0.00         0\n",
      "       19691       0.00      0.00      0.00         0\n",
      "       19798       0.00      0.00      0.00         0\n",
      "       19897       0.00      0.00      0.00         0\n",
      "       19899       0.00      0.00      0.00         0\n",
      "       19981       0.00      0.00      0.00         0\n",
      "       19990       0.00      0.00      0.00         0\n",
      "       19995       0.00      0.00      0.00         4\n",
      "       19998       0.00      0.00      0.00         0\n",
      "       20195       0.00      0.00      0.00         0\n",
      "       20495       0.00      0.00      0.00         0\n",
      "       20550       0.00      0.00      0.00         0\n",
      "       20681       0.00      0.00      0.00         0\n",
      "       20970       0.00      0.00      0.00         0\n",
      "       20990       0.00      0.00      0.00         0\n",
      "       20995       0.00      0.00      0.00         0\n",
      "       20998       0.00      0.00      0.00         0\n",
      "       20999       0.00      0.00      0.00         0\n",
      "       21000       0.00      0.00      0.00         0\n",
      "       21490       0.00      0.00      0.00         0\n",
      "       21499       0.00      0.00      0.00         0\n",
      "       21750       0.00      0.00      0.00         0\n",
      "       21800       0.00      0.00      0.00         0\n",
      "       21990       0.00      0.00      0.00         0\n",
      "       21995       0.00      0.00      0.00         0\n",
      "       21998       0.00      0.00      0.00         0\n",
      "       21999       0.00      0.00      0.00         0\n",
      "       22000       0.00      0.00      0.00         0\n",
      "       22395       0.00      0.00      0.00         0\n",
      "       22480       0.00      0.00      0.00         0\n",
      "       22491       0.00      0.00      0.00         0\n",
      "       22495       0.00      0.00      0.00         0\n",
      "       22680       0.00      0.00      0.00         0\n",
      "       22750       0.00      0.00      0.00         0\n",
      "       22891       0.00      0.00      0.00         0\n",
      "       22895       0.00      0.00      0.00         0\n",
      "       22969       0.00      0.00      0.00         0\n",
      "       22989       0.00      0.00      0.00         0\n",
      "       22995       0.50      0.10      0.17        10\n",
      "       22998       0.00      0.00      0.00         0\n",
      "       23000       0.00      0.00      0.00         0\n",
      "       23340       0.00      0.00      0.00         0\n",
      "       23469       0.00      0.00      0.00         0\n",
      "       23480       0.00      0.00      0.00         0\n",
      "       23895       0.00      0.00      0.00         0\n",
      "       23970       0.00      0.00      0.00         0\n",
      "       23990       0.00      0.00      0.00         0\n",
      "       23991       1.00      0.07      0.13        42\n",
      "       23995       0.50      0.07      0.12        14\n",
      "       24495       0.00      0.00      0.00         0\n",
      "       24969       0.00      0.00      0.00         0\n",
      "       24970       0.00      0.00      0.00         0\n",
      "       25000       0.00      0.00      0.00         0\n",
      "       25195       0.00      0.00      0.00         0\n",
      "       26000       0.00      0.00      0.00         0\n",
      "       26970       0.00      0.00      0.00         0\n",
      "       26995       0.00      0.00      0.00         2\n",
      "       26999       0.00      0.00      0.00         0\n",
      "       28995       0.00      0.00      0.00         0\n",
      "       29495       0.00      0.00      0.00         0\n",
      "       31500       0.00      0.00      0.00         0\n",
      "       32450       0.00      0.00      0.00         1\n",
      "       32495       0.00      0.00      0.00         0\n",
      "       32570       0.00      0.00      0.00         0\n",
      "       32950       0.00      0.00      0.00         0\n",
      "       32995       0.00      0.00      0.00         0\n",
      "       33695       0.00      0.00      0.00         0\n",
      "       33791       0.00      0.00      0.00         0\n",
      "       33900       0.00      0.00      0.00         0\n",
      "       33992       0.00      0.00      0.00         0\n",
      "       33998       0.00      0.00      0.00         0\n",
      "       33999       0.00      0.00      0.00        14\n",
      "       34864       0.00      0.00      0.00         0\n",
      "       35995       0.00      0.00      0.00         0\n",
      "       36995       0.00      0.00      0.00         0\n",
      "\n",
      "    accuracy                           0.04       972\n",
      "   macro avg       0.02      0.00      0.00       972\n",
      "weighted avg       0.43      0.04      0.07       972\n",
      "\n"
     ]
    }
   ],
   "source": [
    "model=SVC()\n",
    "model.fit(x_train,y_train)\n",
    "y_train_pred=model.predict(x_train)\n",
    "y_test_pred=model.predict(x_test)\n",
    "\n",
    "print(\"Train Set Accuracy:\"+str(accuracy_score(y_train_pred,y_train)*100))\n",
    "print(\"Test Set Accuracy:\"+str(accuracy_score(y_test_pred,y_test)*100))\n",
    "print(\"\\nConfusion Matrix:\\n%s\"%confusion_matrix(y_test_pred,y_test))\n",
    "print(\"\\nClassificationReport:\\n%s\"%classification_report(y_test_pred,y_test))"
   ]
  },
  {
   "cell_type": "code",
   "execution_count": null,
   "id": "fc1ce209",
   "metadata": {},
   "outputs": [],
   "source": []
  },
  {
   "cell_type": "code",
   "execution_count": null,
   "id": "9b1c5213",
   "metadata": {},
   "outputs": [],
   "source": []
  }
 ],
 "metadata": {
  "kernelspec": {
   "display_name": "Python 3 (ipykernel)",
   "language": "python",
   "name": "python3"
  },
  "language_info": {
   "codemirror_mode": {
    "name": "ipython",
    "version": 3
   },
   "file_extension": ".py",
   "mimetype": "text/x-python",
   "name": "python",
   "nbconvert_exporter": "python",
   "pygments_lexer": "ipython3",
   "version": "3.9.7"
  }
 },
 "nbformat": 4,
 "nbformat_minor": 5
}
