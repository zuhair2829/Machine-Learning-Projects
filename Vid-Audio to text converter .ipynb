{
 "cells": [
  {
   "cell_type": "code",
   "execution_count": 2,
   "id": "3d79de0c",
   "metadata": {},
   "outputs": [
    {
     "name": "stdout",
     "output_type": "stream",
     "text": [
      "MoviePy - Writing audio in C:\\Users\\ROG STRIX\\Desktop\\Avengers END Game.wav\n"
     ]
    },
    {
     "name": "stderr",
     "output_type": "stream",
     "text": [
      "                                                                          "
     ]
    },
    {
     "name": "stdout",
     "output_type": "stream",
     "text": [
      "MoviePy - Done.\n"
     ]
    },
    {
     "name": "stderr",
     "output_type": "stream",
     "text": [
      "\r"
     ]
    }
   ],
   "source": [
    "# Python code to convert video to audio \n",
    "import moviepy.editor as mp \n",
    "  \n",
    "# Insert Local Video File Path  \n",
    "clip = mp.VideoFileClip(r\"C:\\Users\\ROG STRIX\\Desktop\\Avengers END Game.mkv\") \n",
    "  \n",
    "# Insert Local Audio File Path \n",
    "audio_clip = clip.audio.write_audiofile(r\"C:\\Users\\ROG STRIX\\Desktop\\Avengers END Game.wav\")"
   ]
  },
  {
   "cell_type": "code",
   "execution_count": 2,
   "id": "b12a37a6",
   "metadata": {},
   "outputs": [],
   "source": [
    "import os \n",
    "from pydub import AudioSegment\n",
    "from pydub.silence import split_on_silence\n",
    "import speech_recognition as sr\n",
    "r = sr.Recognizer()"
   ]
  },
  {
   "cell_type": "code",
   "execution_count": 3,
   "id": "2f59d8d5",
   "metadata": {},
   "outputs": [],
   "source": [
    "def get_large_audio_transcription(path):\n",
    "    \"\"\"\n",
    "    Splitting the large audio file into chunks\n",
    "    and apply speech recognition on each of these chunks\n",
    "    \"\"\"\n",
    "    # open the audio file using pydub\n",
    "    sound = AudioSegment.from_wav(path)  \n",
    "    # split audio sound where silence is 700 miliseconds or more and get chunks\n",
    "    chunks = split_on_silence(sound,\n",
    "        # experiment with this value for your target audio file\n",
    "        min_silence_len = 500,\n",
    "        # adjust this per requirement\n",
    "        silence_thresh = sound.dBFS-14,\n",
    "        # keep the silence for 1 second, adjustable as well\n",
    "        keep_silence=500,\n",
    "    )\n",
    "    folder_name = \"audio-chunks\"\n",
    "    # create a directory to store the audio chunks\n",
    "    if not os.path.isdir(folder_name):\n",
    "        os.mkdir(folder_name)\n",
    "    whole_text = \"\"\n",
    "    # process each chunk \n",
    "    for i, audio_chunk in enumerate(chunks, start=1):\n",
    "        # export audio chunk and save it in\n",
    "        # the `folder_name` directory.\n",
    "        chunk_filename = os.path.join(folder_name, f\"chunk{i}.wav\")\n",
    "        audio_chunk.export(chunk_filename, format=\"wav\")\n",
    "        # recognize the chunk\n",
    "        with sr.AudioFile(chunk_filename) as source:\n",
    "            audio_listened = r.record(source)\n",
    "            # try converting it to text\n",
    "            try:\n",
    "                text = r.recognize_google(audio_listened)\n",
    "            except sr.UnknownValueError as e:\n",
    "                print(\"Error:\", str(e))\n",
    "            else:\n",
    "                text = f\"{text.capitalize()}. \"\n",
    "                print(chunk_filename, \":\", text)\n",
    "                whole_text += text\n",
    "    # return the text for all chunks detected\n",
    "    return whole_text"
   ]
  },
  {
   "cell_type": "code",
   "execution_count": null,
   "id": "81d0ef80",
   "metadata": {},
   "outputs": [
    {
     "name": "stdout",
     "output_type": "stream",
     "text": [
      "audio-chunks\\chunk1.wav : Ok aaram se abhi nahin. \n",
      "audio-chunks\\chunk2.wav : Apni takat ko dekh rahi hai. \n",
      "Error: \n",
      "audio-chunks\\chunk4.wav : Arjun kidhar machhali ki aankh. \n",
      "Error: \n",
      "audio-chunks\\chunk6.wav : Kya dikha. \n",
      "Error: \n",
      "Error: \n",
      "Error: \n",
      "audio-chunks\\chunk10.wav : Commando. \n",
      "Error: \n",
      "audio-chunks\\chunk12.wav : Sahi hai. \n",
      "Error: \n",
      "Error: \n",
      "Error: \n",
      "audio-chunks\\chunk16.wav : Hd mein meethi chatni. \n",
      "audio-chunks\\chunk17.wav : Ki meethi chatni kaun khata hai dance. \n",
      "audio-chunks\\chunk18.wav : Bhilwada. \n",
      "audio-chunks\\chunk19.wav : Hamare liye phone theek hai. \n",
      "Error: \n",
      "audio-chunks\\chunk21.wav : Net. \n",
      "audio-chunks\\chunk22.wav : Teekha meetha. \n",
      "audio-chunks\\chunk23.wav : Mujhe kya chup chahie. \n",
      "audio-chunks\\chunk24.wav : Kalyan record. \n",
      "Error: \n",
      "audio-chunks\\chunk26.wav : Baat ho kya hai. \n",
      "Error: \n",
      "Error: \n",
      "audio-chunks\\chunk29.wav : Ok. \n",
      "audio-chunks\\chunk30.wav : Ok bhej de rahe hain. \n",
      "audio-chunks\\chunk31.wav : Laila chalo beta. \n",
      "audio-chunks\\chunk32.wav : Dialogue. \n",
      "Error: \n",
      "audio-chunks\\chunk34.wav : Beta. \n",
      "Error: \n",
      "audio-chunks\\chunk36.wav : Elora. \n",
      "Error: \n",
      "Error: \n"
     ]
    }
   ],
   "source": [
    "text = get_large_audio_transcription(\"C:/Users/ROG STRIX/Desktop/Avengers END Game.wav\")"
   ]
  },
  {
   "cell_type": "code",
   "execution_count": null,
   "id": "e0d5d2dc",
   "metadata": {},
   "outputs": [],
   "source": []
  },
  {
   "cell_type": "code",
   "execution_count": null,
   "id": "7164595d",
   "metadata": {},
   "outputs": [],
   "source": []
  }
 ],
 "metadata": {
  "kernelspec": {
   "display_name": "Python 3 (ipykernel)",
   "language": "python",
   "name": "python3"
  },
  "language_info": {
   "codemirror_mode": {
    "name": "ipython",
    "version": 3
   },
   "file_extension": ".py",
   "mimetype": "text/x-python",
   "name": "python",
   "nbconvert_exporter": "python",
   "pygments_lexer": "ipython3",
   "version": "3.9.7"
  }
 },
 "nbformat": 4,
 "nbformat_minor": 5
}
